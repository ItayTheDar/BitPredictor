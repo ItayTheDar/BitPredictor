{
  "nbformat": 4,
  "nbformat_minor": 0,
  "metadata": {
    "colab": {
      "provenance": []
    },
    "kernelspec": {
      "name": "python3",
      "display_name": "Python 3"
    },
    "language_info": {
      "name": "python"
    }
  },
  "cells": [
    {
      "cell_type": "markdown",
      "source": [
        "**pytrends**\n",
        "\n",
        "Pytrends is a Python library that provides a simple interface for interacting with Google Trends data. Google Trends allows users to explore the popularity of search terms over time and across different regions.\n",
        "\n",
        "With pytrends, you can fetch data such as the search interest for specific keywords, trends over time, geographic distribution of searches, related queries, and more. This data can be useful for various purposes, including market research, content planning, and trend analysis.\n",
        "\n",
        "Pytrends allows you to access Google Trends data programmatically, making it easier to integrate this information into your Python applications, scripts, or data analysis workflows."
      ],
      "metadata": {
        "id": "bLGmcNJERZdB"
      }
    },
    {
      "cell_type": "code",
      "execution_count": null,
      "metadata": {
        "id": "vbNa7szBRMrH"
      },
      "outputs": [],
      "source": [
        "!pip install pytrends"
      ]
    },
    {
      "cell_type": "code",
      "source": [
        "%matplotlib inline\n",
        "from pytrends.request import TrendReq\n",
        "from datetime import timedelta, date\n",
        "import pandas as pd\n",
        "import matplotlib.pyplot as plt"
      ],
      "metadata": {
        "id": "T-ekENq2TQHP"
      },
      "execution_count": null,
      "outputs": []
    },
    {
      "cell_type": "code",
      "source": [
        "# List of parameters\n",
        "hl = 'en-US'\n",
        "tz = 360  # Timezone Offset (in minutes), tz = 360 means US CST\n",
        "kw_list = ['Bitcoin']  # keyword list, FIVE at maximum\n",
        "geo = 'US'  # Two letter country abbreviation, 'US' for United States, default 'world'\n",
        "\n",
        "start_date = date(year=2014, month=9, day=14)\n",
        "end_date = date(year=2024, month=5, day=31)\n",
        "timeframe = str(start_date) + ' ' + str(end_date)\n",
        "\n",
        "# Connect to Google Trends\n",
        "pytrends = TrendReq(hl=hl, tz=tz)\n",
        "pytrends.build_payload(kw_list=kw_list, timeframe=timeframe, geo=geo)\n",
        "df_monthly = pytrends.interest_over_time()\n",
        "\n",
        "# Save df_monthly to a CSV file\n",
        "df_monthly.to_csv('df_monthly.csv', index=True)\n",
        "\n",
        "# Create a CSV file for daily data\n",
        "filename = 'BTC-GOOGLE.csv'\n",
        "with open(filename, 'w') as csvfile:\n",
        "    filewriter = csv.writer(csvfile, delimiter=',')\n",
        "    filewriter.writerow(['Date', 'Bitcoin'])  # title\n",
        "\n",
        "END_DATE = date(year=2024, month=5, day=10)\n",
        "one_month = relativedelta(months=+1)\n",
        "\n",
        "start_date = date(year=2014, month=10, day=1)\n",
        "\n",
        "# Fill gaps of each month and write into the CSV file\n",
        "while start_date <= END_DATE:\n",
        "    end_date = start_date + one_month - timedelta(days=1)\n",
        "    timeframe = str(start_date) + ' ' + str(end_date)\n",
        "\n",
        "    # Fetch daily data\n",
        "    pytrends.build_payload(kw_list=kw_list, timeframe=timeframe, geo=geo)\n",
        "    df_daily = pytrends.interest_over_time()\n",
        "\n",
        "    # Ensure the dates exist in both DataFrames\n",
        "    try:\n",
        "        if df_daily.empty or start_date not in df_daily.index or end_date not in df_daily.index:\n",
        "            print(f\"Data not available for the timeframe: {timeframe}\")\n",
        "            start_date = start_date + one_month\n",
        "            continue\n",
        "\n",
        "        if start_date not in df_monthly.index or end_date not in df_monthly.index:\n",
        "            print(f\"Monthly data not available for start date: {start_date} or end date: {end_date}\")\n",
        "            start_date = start_date + one_month\n",
        "            continue\n",
        "\n",
        "        # Calculate the equation parameters\n",
        "        if df_daily.loc[start_date, 'Bitcoin'] == df_daily.loc[end_date, 'Bitcoin']:\n",
        "            a = 0\n",
        "            b = 0\n",
        "        else:\n",
        "            a = (df_monthly.loc[end_date, 'Bitcoin'] - df_monthly.loc[start_date, 'Bitcoin']) / (df_daily.loc[end_date, 'Bitcoin'] - df_daily.loc[start_date, 'Bitcoin'])\n",
        "            b = df_monthly.loc[end_date, 'Bitcoin'] - a * df_daily.loc[start_date, 'Bitcoin']\n",
        "\n",
        "        # Convert the data to fill the monthly gap\n",
        "        df_daily['Bitcoin'] = df_daily['Bitcoin'].apply(lambda x: a * x + b if (a * x + b) > 0 else 0)\n",
        "\n",
        "        # Append the result to the CSV file\n",
        "        df_daily[:-1].reset_index().to_csv(filename, mode='a', header=False, columns=['date', 'Bitcoin'], index=False)\n",
        "\n",
        "        # Set 1 second waiting time, in case Google will deny my access.\n",
        "        time.sleep(1)\n",
        "        print(timeframe + ' finished.')\n",
        "    except KeyError as e:\n",
        "        print(f\"KeyError encountered: {e}\")\n",
        "    except Exception as e:\n",
        "        print(f\"Unexpected error: {e}\")\n",
        "\n",
        "    start_date = start_date + one_month\n",
        "\n",
        "print('Cheers! Get the job done.')  # the csv file is 'BTC-GOOGLE.csv'"
      ],
      "metadata": {
        "id": "kQOX6TklTVV3"
      },
      "execution_count": null,
      "outputs": []
    },
    {
      "cell_type": "code",
      "source": [
        "# the monthly dataset\n",
        "print('min: ' + str(min(df_monthly['Bitcoin'])))\n",
        "print('max: ' + str(max(df_monthly['Bitcoin'])))\n",
        "\n",
        "print(df_monthly.head(3))\n",
        "print(df_monthly.tail(3))\n",
        "\n",
        "# comparing the monthly data directly from Google trend, we add lots of more details\n",
        "df_monthly.plot(figsize = (18,9))"
      ],
      "metadata": {
        "id": "1Vgm3uYmTYAU"
      },
      "execution_count": null,
      "outputs": []
    },
    {
      "cell_type": "code",
      "source": [
        "import pandas as pd\n",
        "from datetime import date, timedelta\n",
        "from dateutil.relativedelta import relativedelta\n",
        "\n",
        "# Assuming df_monthly is already fetched and contains your data\n",
        "# Min-Max normalization to scale values between 0 and 1\n",
        "df_monthly['Bitcoin'] = (df_monthly['Bitcoin'] - df_monthly['Bitcoin'].min()) / (df_monthly['Bitcoin'].max() - df_monthly['Bitcoin'].min())\n",
        "\n",
        "# Save normalized df_monthly to a CSV file\n",
        "df_monthly.to_csv('df_monthly_normalized.csv', index=True)\n",
        "\n",
        "# Create a new DataFrame to store daily data\n",
        "df_daily_expanded = pd.DataFrame()\n",
        "\n",
        "# Expand monthly data to daily data\n",
        "for idx, row in df_monthly.iterrows():\n",
        "    month_start = idx\n",
        "    month_end = (idx + relativedelta(months=+1) - timedelta(days=1)).to_pydatetime()\n",
        "    date_range = pd.date_range(start=month_start, end=month_end, freq='D')\n",
        "    daily_values = pd.DataFrame(date_range, columns=['Date'])\n",
        "    daily_values['Bitcoin'] = row['Bitcoin']\n",
        "    df_daily_expanded = pd.concat([df_daily_expanded, daily_values])\n",
        "\n",
        "# Ensure the index is set correctly\n",
        "df_daily_expanded.set_index('Date', inplace=True)\n",
        "\n",
        "# Save the expanded daily data to a CSV file\n",
        "df_daily_expanded.to_csv('df_daily_expanded.csv')\n",
        "\n",
        "print('Normalized monthly data saved as df_monthly_normalized.csv')\n",
        "print('Expanded daily data saved as df_daily_expanded.csv')"
      ],
      "metadata": {
        "id": "c3A8M4gjTazk"
      },
      "execution_count": null,
      "outputs": []
    },
    {
      "cell_type": "code",
      "source": [
        "df_daily_expanded.plot(figsize = (18,9))"
      ],
      "metadata": {
        "id": "BsuuI1p3TdBE"
      },
      "execution_count": null,
      "outputs": []
    },
    {
      "cell_type": "code",
      "source": [
        "df_monthly = pd.read_csv('df_monthly.csv')\n",
        "# Calculate the percentage change month-to-month\n",
        "df_monthly['Change'] = df_monthly['Bitcoin'].pct_change()\n",
        "\n",
        "# Drop the first row which will have NaN change\n",
        "df_monthly.dropna(inplace=True)\n",
        "\n",
        "# Reset index to clean up the DataFrame\n",
        "df_monthly.reset_index(drop=True, inplace=True)\n",
        "\n",
        "df_monthly"
      ],
      "metadata": {
        "id": "P7g4G1Q1TfTv"
      },
      "execution_count": null,
      "outputs": []
    },
    {
      "cell_type": "code",
      "source": [
        "df_monthly.to_csv('df_monthly_change.csv', index=True)"
      ],
      "metadata": {
        "id": "wwJBX86SThdx"
      },
      "execution_count": null,
      "outputs": []
    }
  ]
}